{
 "cells": [
  {
   "cell_type": "markdown",
   "metadata": {},
   "source": [
    "# 패키지 임포트"
   ]
  },
  {
   "cell_type": "code",
   "execution_count": 1,
   "metadata": {},
   "outputs": [],
   "source": [
    "from C110_01_collecting_functions import *\n",
    "\n",
    "import matplotlib.font_manager as fm\n",
    "import matplotlib.pyplot as plt\n",
    "import numpy\n",
    "import pandas\n",
    "\n",
    "import selenium"
   ]
  },
  {
   "cell_type": "code",
   "execution_count": 2,
   "metadata": {},
   "outputs": [],
   "source": [
    "%matplotlib inline\n",
    "plt.rcParams['font.size'] = 20\n",
    "plt.rcParams[\"figure.figsize\"] = (50, 10)\n",
    "plt.rcParams['lines.linewidth'] = 5\n",
    "plt.rcParams[\"axes.grid\"] = True"
   ]
  },
  {
   "cell_type": "code",
   "execution_count": 3,
   "metadata": {},
   "outputs": [
    {
     "data": {
      "text/html": [
       "<style>\n",
       "    table { display: inline-block }\n",
       "    .rendered_html td, .rendered_html th { text-align: left; }\n",
       "</style>\n"
      ],
      "text/plain": [
       "<IPython.core.display.HTML object>"
      ]
     },
     "metadata": {},
     "output_type": "display_data"
    }
   ],
   "source": [
    "%%html\n",
    "<style>\n",
    "    table { display: inline-block }\n",
    "    .rendered_html td, .rendered_html th { text-align: left; }\n",
    "</style>"
   ]
  },
  {
   "cell_type": "markdown",
   "metadata": {},
   "source": [
    "# 네이버 로그인"
   ]
  },
  {
   "cell_type": "code",
   "execution_count": 4,
   "metadata": {},
   "outputs": [
    {
     "name": "stderr",
     "output_type": "stream",
     "text": [
      "/var/folders/bs/bd_yy1r50dv7yls6y41t6b2h0000gn/T/ipykernel_90936/3108017993.py:11: DeprecationWarning: executable_path has been deprecated, please pass in a Service object\n",
      "  driver = selenium.webdriver.Chrome(driver_full_path, options=options)\n"
     ]
    }
   ],
   "source": [
    "import selenium\n",
    "import selenium.webdriver.common.action_chains\n",
    "import selenium.webdriver.common.keys\n",
    "\n",
    "# 드라이버 파일 지정 (본인 환경에 맞게 수정)\n",
    "driver_full_path = './chromedriver_mac_96'\n",
    "\n",
    "options = selenium.webdriver.ChromeOptions()\n",
    "# options.add_argument('headless')\n",
    "options.add_experimental_option(\"excludeSwitches\", [\"enable-logging\"])\n",
    "driver = selenium.webdriver.Chrome(driver_full_path, options=options)\n",
    "\n",
    "page_login = 'https://nid.naver.com/nidlogin.login'\n",
    "driver.get(page_login)\n",
    "\n",
    "# id 입력\n",
    "uid = 'AAA'\n",
    "# pw 입력\n",
    "upw = 'BBB'\n",
    "\n",
    "copy_input(driver, '//*[@id=\"id\"]', uid)\n",
    "copy_input(driver, '//*[@id=\"pw\"]', upw)\n",
    "# 로그인 버튼 클릭 (주석을 해제하면 클릭이 작동함)\n",
    "# driver.find_element_by_xpath('//*[@id=\"log.login\"]').click()\n"
   ]
  }
 ],
 "metadata": {
  "interpreter": {
   "hash": "93b3eefb7890bc524da8cfb87af359a17430c97fa57e28312324b1c7fd0d9270"
  },
  "kernelspec": {
   "display_name": "Python 3.9.7 64-bit ('educations': conda)",
   "language": "python",
   "name": "python3"
  },
  "language_info": {
   "codemirror_mode": {
    "name": "ipython",
    "version": 3
   },
   "file_extension": ".py",
   "mimetype": "text/x-python",
   "name": "python",
   "nbconvert_exporter": "python",
   "pygments_lexer": "ipython3",
   "version": "3.9.7"
  },
  "orig_nbformat": 4
 },
 "nbformat": 4,
 "nbformat_minor": 2
}
